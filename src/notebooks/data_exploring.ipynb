{
 "cells": [
  {
   "cell_type": "code",
   "execution_count": 1,
   "id": "2f027697",
   "metadata": {},
   "outputs": [],
   "source": [
    "import numpy as np\n",
    "import pandas as pd\n",
    "import seaborn as sns"
   ]
  },
  {
   "cell_type": "code",
   "execution_count": 2,
   "id": "7e785b11",
   "metadata": {},
   "outputs": [],
   "source": [
    "df = pd.read_csv(\"../initial_data/labels.csv\")"
   ]
  },
  {
   "cell_type": "code",
   "execution_count": 3,
   "id": "0a4f80c3",
   "metadata": {},
   "outputs": [
    {
     "data": {
      "text/html": [
       "<div>\n",
       "<style scoped>\n",
       "    .dataframe tbody tr th:only-of-type {\n",
       "        vertical-align: middle;\n",
       "    }\n",
       "\n",
       "    .dataframe tbody tr th {\n",
       "        vertical-align: top;\n",
       "    }\n",
       "\n",
       "    .dataframe thead th {\n",
       "        text-align: right;\n",
       "    }\n",
       "</style>\n",
       "<table border=\"1\" class=\"dataframe\">\n",
       "  <thead>\n",
       "    <tr style=\"text-align: right;\">\n",
       "      <th></th>\n",
       "      <th>id</th>\n",
       "      <th>model</th>\n",
       "      <th>type</th>\n",
       "      <th>brand</th>\n",
       "      <th>Style</th>\n",
       "      <th>year</th>\n",
       "      <th>Color</th>\n",
       "    </tr>\n",
       "  </thead>\n",
       "  <tbody>\n",
       "    <tr>\n",
       "      <th>0</th>\n",
       "      <td>2402544</td>\n",
       "      <td>Toyota Camry</td>\n",
       "      <td>Camry</td>\n",
       "      <td>Toyota</td>\n",
       "      <td>Sedan</td>\n",
       "      <td>2004</td>\n",
       "      <td>Black</td>\n",
       "    </tr>\n",
       "    <tr>\n",
       "      <th>1</th>\n",
       "      <td>2460326</td>\n",
       "      <td>Toyota Camry</td>\n",
       "      <td>Camry</td>\n",
       "      <td>Toyota</td>\n",
       "      <td>Sedan</td>\n",
       "      <td>2012</td>\n",
       "      <td>White</td>\n",
       "    </tr>\n",
       "    <tr>\n",
       "      <th>2</th>\n",
       "      <td>2328424</td>\n",
       "      <td>Toyota Camry</td>\n",
       "      <td>Camry</td>\n",
       "      <td>Toyota</td>\n",
       "      <td>Sedan</td>\n",
       "      <td>2013</td>\n",
       "      <td>Gray</td>\n",
       "    </tr>\n",
       "    <tr>\n",
       "      <th>3</th>\n",
       "      <td>2358214</td>\n",
       "      <td>Toyota Camry</td>\n",
       "      <td>Camry</td>\n",
       "      <td>Toyota</td>\n",
       "      <td>Sedan</td>\n",
       "      <td>2008</td>\n",
       "      <td>White</td>\n",
       "    </tr>\n",
       "    <tr>\n",
       "      <th>4</th>\n",
       "      <td>2453232</td>\n",
       "      <td>Toyota Camry</td>\n",
       "      <td>Camry</td>\n",
       "      <td>Toyota</td>\n",
       "      <td>Sedan</td>\n",
       "      <td>2010</td>\n",
       "      <td>Silver</td>\n",
       "    </tr>\n",
       "  </tbody>\n",
       "</table>\n",
       "</div>"
      ],
      "text/plain": [
       "        id         model   type   brand  Style  year   Color\n",
       "0  2402544  Toyota Camry  Camry  Toyota  Sedan  2004   Black\n",
       "1  2460326  Toyota Camry  Camry  Toyota  Sedan  2012   White\n",
       "2  2328424  Toyota Camry  Camry  Toyota  Sedan  2013    Gray\n",
       "3  2358214  Toyota Camry  Camry  Toyota  Sedan  2008   White\n",
       "4  2453232  Toyota Camry  Camry  Toyota  Sedan  2010  Silver"
      ]
     },
     "execution_count": 3,
     "metadata": {},
     "output_type": "execute_result"
    }
   ],
   "source": [
    "df.drop(\"folder_size\", axis = 1).head()"
   ]
  },
  {
   "cell_type": "code",
   "execution_count": 4,
   "id": "1a589e81",
   "metadata": {},
   "outputs": [
    {
     "data": {
      "text/html": [
       "<div>\n",
       "<style scoped>\n",
       "    .dataframe tbody tr th:only-of-type {\n",
       "        vertical-align: middle;\n",
       "    }\n",
       "\n",
       "    .dataframe tbody tr th {\n",
       "        vertical-align: top;\n",
       "    }\n",
       "\n",
       "    .dataframe thead th {\n",
       "        text-align: right;\n",
       "    }\n",
       "</style>\n",
       "<table border=\"1\" class=\"dataframe\">\n",
       "  <thead>\n",
       "    <tr style=\"text-align: right;\">\n",
       "      <th></th>\n",
       "      <th>id</th>\n",
       "      <th>model</th>\n",
       "      <th>type</th>\n",
       "      <th>brand</th>\n",
       "      <th>Style</th>\n",
       "      <th>year</th>\n",
       "      <th>Color</th>\n",
       "      <th>folder_size</th>\n",
       "    </tr>\n",
       "  </thead>\n",
       "  <tbody>\n",
       "    <tr>\n",
       "      <th>0</th>\n",
       "      <td>2402544</td>\n",
       "      <td>Toyota Camry</td>\n",
       "      <td>Camry</td>\n",
       "      <td>Toyota</td>\n",
       "      <td>Sedan</td>\n",
       "      <td>2004</td>\n",
       "      <td>Black</td>\n",
       "      <td>450.750977</td>\n",
       "    </tr>\n",
       "    <tr>\n",
       "      <th>1</th>\n",
       "      <td>2460326</td>\n",
       "      <td>Toyota Camry</td>\n",
       "      <td>Camry</td>\n",
       "      <td>Toyota</td>\n",
       "      <td>Sedan</td>\n",
       "      <td>2012</td>\n",
       "      <td>White</td>\n",
       "      <td>820.288086</td>\n",
       "    </tr>\n",
       "    <tr>\n",
       "      <th>2</th>\n",
       "      <td>2328424</td>\n",
       "      <td>Toyota Camry</td>\n",
       "      <td>Camry</td>\n",
       "      <td>Toyota</td>\n",
       "      <td>Sedan</td>\n",
       "      <td>2013</td>\n",
       "      <td>Gray</td>\n",
       "      <td>1090.664062</td>\n",
       "    </tr>\n",
       "    <tr>\n",
       "      <th>3</th>\n",
       "      <td>2358214</td>\n",
       "      <td>Toyota Camry</td>\n",
       "      <td>Camry</td>\n",
       "      <td>Toyota</td>\n",
       "      <td>Sedan</td>\n",
       "      <td>2008</td>\n",
       "      <td>White</td>\n",
       "      <td>942.509766</td>\n",
       "    </tr>\n",
       "    <tr>\n",
       "      <th>4</th>\n",
       "      <td>2453232</td>\n",
       "      <td>Toyota Camry</td>\n",
       "      <td>Camry</td>\n",
       "      <td>Toyota</td>\n",
       "      <td>Sedan</td>\n",
       "      <td>2010</td>\n",
       "      <td>Silver</td>\n",
       "      <td>824.727539</td>\n",
       "    </tr>\n",
       "  </tbody>\n",
       "</table>\n",
       "</div>"
      ],
      "text/plain": [
       "        id         model   type   brand  Style  year   Color  folder_size\n",
       "0  2402544  Toyota Camry  Camry  Toyota  Sedan  2004   Black   450.750977\n",
       "1  2460326  Toyota Camry  Camry  Toyota  Sedan  2012   White   820.288086\n",
       "2  2328424  Toyota Camry  Camry  Toyota  Sedan  2013    Gray  1090.664062\n",
       "3  2358214  Toyota Camry  Camry  Toyota  Sedan  2008   White   942.509766\n",
       "4  2453232  Toyota Camry  Camry  Toyota  Sedan  2010  Silver   824.727539"
      ]
     },
     "execution_count": 4,
     "metadata": {},
     "output_type": "execute_result"
    }
   ],
   "source": [
    "df.head()"
   ]
  },
  {
   "cell_type": "code",
   "execution_count": 10,
   "id": "bcac5571",
   "metadata": {},
   "outputs": [
    {
     "data": {
      "text/plain": [
       "<AxesSubplot:xlabel='count', ylabel='brand'>"
      ]
     },
     "execution_count": 10,
     "metadata": {},
     "output_type": "execute_result"
    },
    {
     "data": {
      "image/png": "[encoded data removed]",
      "text/plain": [
       "<Figure size 432x288 with 1 Axes>"
      ]
     },
     "metadata": {
      "needs_background": "light"
     },
     "output_type": "display_data"
    }
   ],
   "source": [
    "sns.countplot(y=\"brand\", data=df)"
   ]
  },
  {
   "cell_type": "code",
   "execution_count": 11,
   "id": "ea7e0787",
   "metadata": {},
   "outputs": [
    {
     "data": {
      "text/plain": [
       "<AxesSubplot:xlabel='count', ylabel='Style'>"
      ]
     },
     "execution_count": 11,
     "metadata": {},
     "output_type": "execute_result"
    },
    {
     "data": {
      "image/png": "[encoded data removed]",
      "text/plain": [
       "<Figure size 432x288 with 1 Axes>"
      ]
     },
     "metadata": {
      "needs_background": "light"
     },
     "output_type": "display_data"
    }
   ],
   "source": [
    "sns.countplot(y=\"Style\", data=df)"
   ]
  },
  {
   "cell_type": "code",
   "execution_count": null,
   "id": "fc2bd7a6",
   "metadata": {},
   "outputs": [],
   "source": []
  }
 ],
 "metadata": {
  "kernelspec": {
   "display_name": "Python 3 (ipykernel)",
   "language": "python",
   "name": "python3"
  },
  "language_info": {
   "codemirror_mode": {
    "name": "ipython",
    "version": 3
   },
   "file_extension": ".py",
   "mimetype": "text/x-python",
   "name": "python",
   "nbconvert_exporter": "python",
   "pygments_lexer": "ipython3",
   "version": "3.9.6"
  }
 },
 "nbformat": 4,
 "nbformat_minor": 5
}
