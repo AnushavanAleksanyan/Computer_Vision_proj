{
 "cells": [
  {
   "cell_type": "code",
   "execution_count": 1,
   "id": "2f027697",
   "metadata": {},
   "outputs": [
    {
     "ename": "ModuleNotFoundError",
     "evalue": "No module named 'pandas'",
     "output_type": "error",
     "traceback": [
      "\u001b[1;31m---------------------------------------------------------------------------\u001b[0m",
      "\u001b[1;31mModuleNotFoundError\u001b[0m                       Traceback (most recent call last)",
      "\u001b[1;32m~\\AppData\\Local\\Temp/ipykernel_14328/2660915427.py\u001b[0m in \u001b[0;36m<module>\u001b[1;34m\u001b[0m\n\u001b[0;32m      1\u001b[0m \u001b[1;32mimport\u001b[0m \u001b[0mnumpy\u001b[0m \u001b[1;32mas\u001b[0m \u001b[0mnp\u001b[0m\u001b[1;33m\u001b[0m\u001b[1;33m\u001b[0m\u001b[0m\n\u001b[1;32m----> 2\u001b[1;33m \u001b[1;32mimport\u001b[0m \u001b[0mpandas\u001b[0m \u001b[1;32mas\u001b[0m \u001b[0mpd\u001b[0m\u001b[1;33m\u001b[0m\u001b[1;33m\u001b[0m\u001b[0m\n\u001b[0m\u001b[0;32m      3\u001b[0m \u001b[1;32mimport\u001b[0m \u001b[0mseaborn\u001b[0m \u001b[1;32mas\u001b[0m \u001b[0msns\u001b[0m\u001b[1;33m\u001b[0m\u001b[1;33m\u001b[0m\u001b[0m\n\u001b[0;32m      4\u001b[0m \u001b[1;32mimport\u001b[0m \u001b[0mmatplotlib\u001b[0m\u001b[1;33m.\u001b[0m\u001b[0mpyplot\u001b[0m \u001b[1;32mas\u001b[0m \u001b[0mplt\u001b[0m\u001b[1;33m\u001b[0m\u001b[1;33m\u001b[0m\u001b[0m\n",
      "\u001b[1;31mModuleNotFoundError\u001b[0m: No module named 'pandas'"
     ]
    }
   ],
   "source": [
    "import numpy as np\n",
    "import pandas as pd\n",
    "import seaborn as sns\n",
    "import matplotlib.pyplot as plt"
   ]
  },
  {
   "cell_type": "code",
   "execution_count": 71,
   "id": "7e785b11",
   "metadata": {},
   "outputs": [],
   "source": [
    "# 1. Loading the data into the data frame.\n",
    "df = pd.read_csv(\"../initial_data/labels.csv\")"
   ]
  },
  {
   "cell_type": "code",
   "execution_count": 72,
   "id": "149ca046",
   "metadata": {},
   "outputs": [
    {
     "data": {
      "text/html": [
       "<div>\n",
       "<style scoped>\n",
       "    .dataframe tbody tr th:only-of-type {\n",
       "        vertical-align: middle;\n",
       "    }\n",
       "\n",
       "    .dataframe tbody tr th {\n",
       "        vertical-align: top;\n",
       "    }\n",
       "\n",
       "    .dataframe thead th {\n",
       "        text-align: right;\n",
       "    }\n",
       "</style>\n",
       "<table border=\"1\" class=\"dataframe\">\n",
       "  <thead>\n",
       "    <tr style=\"text-align: right;\">\n",
       "      <th></th>\n",
       "      <th>id</th>\n",
       "      <th>model</th>\n",
       "      <th>type</th>\n",
       "      <th>brand</th>\n",
       "      <th>Style</th>\n",
       "      <th>year</th>\n",
       "      <th>Color</th>\n",
       "      <th>folder_size</th>\n",
       "    </tr>\n",
       "  </thead>\n",
       "  <tbody>\n",
       "    <tr>\n",
       "      <th>0</th>\n",
       "      <td>2402544</td>\n",
       "      <td>Toyota Camry</td>\n",
       "      <td>Camry</td>\n",
       "      <td>Toyota</td>\n",
       "      <td>Sedan</td>\n",
       "      <td>2004</td>\n",
       "      <td>Black</td>\n",
       "      <td>450.750977</td>\n",
       "    </tr>\n",
       "    <tr>\n",
       "      <th>1</th>\n",
       "      <td>2460326</td>\n",
       "      <td>Toyota Camry</td>\n",
       "      <td>Camry</td>\n",
       "      <td>Toyota</td>\n",
       "      <td>Sedan</td>\n",
       "      <td>2012</td>\n",
       "      <td>White</td>\n",
       "      <td>820.288086</td>\n",
       "    </tr>\n",
       "    <tr>\n",
       "      <th>2</th>\n",
       "      <td>2328424</td>\n",
       "      <td>Toyota Camry</td>\n",
       "      <td>Camry</td>\n",
       "      <td>Toyota</td>\n",
       "      <td>Sedan</td>\n",
       "      <td>2013</td>\n",
       "      <td>Gray</td>\n",
       "      <td>1090.664062</td>\n",
       "    </tr>\n",
       "    <tr>\n",
       "      <th>3</th>\n",
       "      <td>2358214</td>\n",
       "      <td>Toyota Camry</td>\n",
       "      <td>Camry</td>\n",
       "      <td>Toyota</td>\n",
       "      <td>Sedan</td>\n",
       "      <td>2008</td>\n",
       "      <td>White</td>\n",
       "      <td>942.509766</td>\n",
       "    </tr>\n",
       "    <tr>\n",
       "      <th>4</th>\n",
       "      <td>2453232</td>\n",
       "      <td>Toyota Camry</td>\n",
       "      <td>Camry</td>\n",
       "      <td>Toyota</td>\n",
       "      <td>Sedan</td>\n",
       "      <td>2010</td>\n",
       "      <td>Silver</td>\n",
       "      <td>824.727539</td>\n",
       "    </tr>\n",
       "  </tbody>\n",
       "</table>\n",
       "</div>"
      ],
      "text/plain": [
       "        id         model   type   brand  Style  year   Color  folder_size\n",
       "0  2402544  Toyota Camry  Camry  Toyota  Sedan  2004   Black   450.750977\n",
       "1  2460326  Toyota Camry  Camry  Toyota  Sedan  2012   White   820.288086\n",
       "2  2328424  Toyota Camry  Camry  Toyota  Sedan  2013    Gray  1090.664062\n",
       "3  2358214  Toyota Camry  Camry  Toyota  Sedan  2008   White   942.509766\n",
       "4  2453232  Toyota Camry  Camry  Toyota  Sedan  2010  Silver   824.727539"
      ]
     },
     "execution_count": 72,
     "metadata": {},
     "output_type": "execute_result"
    }
   ],
   "source": [
    "df.head()"
   ]
  },
  {
   "cell_type": "code",
   "execution_count": 73,
   "id": "d10651ff",
   "metadata": {},
   "outputs": [
    {
     "data": {
      "text/plain": [
       "id               int64\n",
       "model           object\n",
       "type            object\n",
       "brand           object\n",
       "Style           object\n",
       "year             int64\n",
       "Color           object\n",
       "folder_size    float64\n",
       "dtype: object"
      ]
     },
     "execution_count": 73,
     "metadata": {},
     "output_type": "execute_result"
    }
   ],
   "source": [
    "# 2. Checking the types of data\n",
    "df.dtypes"
   ]
  },
  {
   "cell_type": "code",
   "execution_count": 74,
   "id": "f9734667",
   "metadata": {},
   "outputs": [],
   "source": [
    "# Dropping irrelevant columns"
   ]
  },
  {
   "cell_type": "code",
   "execution_count": 75,
   "id": "0a4f80c3",
   "metadata": {},
   "outputs": [],
   "source": [
    "df.drop([\"folder_size\",\"id\"], axis = 1, inplace=True)"
   ]
  },
  {
   "cell_type": "code",
   "execution_count": 76,
   "id": "1a589e81",
   "metadata": {},
   "outputs": [
    {
     "data": {
      "text/html": [
       "<div>\n",
       "<style scoped>\n",
       "    .dataframe tbody tr th:only-of-type {\n",
       "        vertical-align: middle;\n",
       "    }\n",
       "\n",
       "    .dataframe tbody tr th {\n",
       "        vertical-align: top;\n",
       "    }\n",
       "\n",
       "    .dataframe thead th {\n",
       "        text-align: right;\n",
       "    }\n",
       "</style>\n",
       "<table border=\"1\" class=\"dataframe\">\n",
       "  <thead>\n",
       "    <tr style=\"text-align: right;\">\n",
       "      <th></th>\n",
       "      <th>model</th>\n",
       "      <th>type</th>\n",
       "      <th>brand</th>\n",
       "      <th>Style</th>\n",
       "      <th>year</th>\n",
       "      <th>Color</th>\n",
       "    </tr>\n",
       "  </thead>\n",
       "  <tbody>\n",
       "    <tr>\n",
       "      <th>0</th>\n",
       "      <td>Toyota Camry</td>\n",
       "      <td>Camry</td>\n",
       "      <td>Toyota</td>\n",
       "      <td>Sedan</td>\n",
       "      <td>2004</td>\n",
       "      <td>Black</td>\n",
       "    </tr>\n",
       "    <tr>\n",
       "      <th>1</th>\n",
       "      <td>Toyota Camry</td>\n",
       "      <td>Camry</td>\n",
       "      <td>Toyota</td>\n",
       "      <td>Sedan</td>\n",
       "      <td>2012</td>\n",
       "      <td>White</td>\n",
       "    </tr>\n",
       "    <tr>\n",
       "      <th>2</th>\n",
       "      <td>Toyota Camry</td>\n",
       "      <td>Camry</td>\n",
       "      <td>Toyota</td>\n",
       "      <td>Sedan</td>\n",
       "      <td>2013</td>\n",
       "      <td>Gray</td>\n",
       "    </tr>\n",
       "    <tr>\n",
       "      <th>3</th>\n",
       "      <td>Toyota Camry</td>\n",
       "      <td>Camry</td>\n",
       "      <td>Toyota</td>\n",
       "      <td>Sedan</td>\n",
       "      <td>2008</td>\n",
       "      <td>White</td>\n",
       "    </tr>\n",
       "    <tr>\n",
       "      <th>4</th>\n",
       "      <td>Toyota Camry</td>\n",
       "      <td>Camry</td>\n",
       "      <td>Toyota</td>\n",
       "      <td>Sedan</td>\n",
       "      <td>2010</td>\n",
       "      <td>Silver</td>\n",
       "    </tr>\n",
       "  </tbody>\n",
       "</table>\n",
       "</div>"
      ],
      "text/plain": [
       "          model   type   brand  Style  year   Color\n",
       "0  Toyota Camry  Camry  Toyota  Sedan  2004   Black\n",
       "1  Toyota Camry  Camry  Toyota  Sedan  2012   White\n",
       "2  Toyota Camry  Camry  Toyota  Sedan  2013    Gray\n",
       "3  Toyota Camry  Camry  Toyota  Sedan  2008   White\n",
       "4  Toyota Camry  Camry  Toyota  Sedan  2010  Silver"
      ]
     },
     "execution_count": 76,
     "metadata": {},
     "output_type": "execute_result"
    }
   ],
   "source": [
    "df.head()"
   ]
  },
  {
   "cell_type": "code",
   "execution_count": 77,
   "id": "61bf8fb5",
   "metadata": {},
   "outputs": [],
   "source": [
    "# Renaming the columns\n",
    "df = df.rename(columns={\"Style\": \"style\", \"Color\": \"color\"})"
   ]
  },
  {
   "cell_type": "markdown",
   "id": "a8fe510f",
   "metadata": {},
   "source": [
    "**Dropping the duplicate rows**"
   ]
  },
  {
   "cell_type": "code",
   "execution_count": 78,
   "id": "53f206a7",
   "metadata": {},
   "outputs": [
    {
     "data": {
      "text/plain": [
       "(560, 6)"
      ]
     },
     "execution_count": 78,
     "metadata": {},
     "output_type": "execute_result"
    }
   ],
   "source": [
    "df.shape"
   ]
  },
  {
   "cell_type": "code",
   "execution_count": 79,
   "id": "9f4c451d",
   "metadata": {},
   "outputs": [
    {
     "name": "stdout",
     "output_type": "stream",
     "text": [
      "number of duplicate rows:  (38, 6)\n"
     ]
    }
   ],
   "source": [
    "# Rows containing duplicate data\n",
    "duplicate_rows_df = df[df.duplicated()]\n",
    "print(\"number of duplicate rows: \", duplicate_rows_df.shape)"
   ]
  },
  {
   "cell_type": "code",
   "execution_count": 80,
   "id": "755c47fa",
   "metadata": {},
   "outputs": [
    {
     "data": {
      "text/plain": [
       "model    560\n",
       "type     560\n",
       "brand    560\n",
       "style    553\n",
       "year     560\n",
       "color    560\n",
       "dtype: int64"
      ]
     },
     "execution_count": 80,
     "metadata": {},
     "output_type": "execute_result"
    }
   ],
   "source": [
    "df.count()"
   ]
  },
  {
   "cell_type": "code",
   "execution_count": 81,
   "id": "a2a5ab11",
   "metadata": {},
   "outputs": [
    {
     "data": {
      "text/html": [
       "<div>\n",
       "<style scoped>\n",
       "    .dataframe tbody tr th:only-of-type {\n",
       "        vertical-align: middle;\n",
       "    }\n",
       "\n",
       "    .dataframe tbody tr th {\n",
       "        vertical-align: top;\n",
       "    }\n",
       "\n",
       "    .dataframe thead th {\n",
       "        text-align: right;\n",
       "    }\n",
       "</style>\n",
       "<table border=\"1\" class=\"dataframe\">\n",
       "  <thead>\n",
       "    <tr style=\"text-align: right;\">\n",
       "      <th></th>\n",
       "      <th>model</th>\n",
       "      <th>type</th>\n",
       "      <th>brand</th>\n",
       "      <th>style</th>\n",
       "      <th>year</th>\n",
       "      <th>color</th>\n",
       "    </tr>\n",
       "  </thead>\n",
       "  <tbody>\n",
       "    <tr>\n",
       "      <th>0</th>\n",
       "      <td>Toyota Camry</td>\n",
       "      <td>Camry</td>\n",
       "      <td>Toyota</td>\n",
       "      <td>Sedan</td>\n",
       "      <td>2004</td>\n",
       "      <td>Black</td>\n",
       "    </tr>\n",
       "    <tr>\n",
       "      <th>1</th>\n",
       "      <td>Toyota Camry</td>\n",
       "      <td>Camry</td>\n",
       "      <td>Toyota</td>\n",
       "      <td>Sedan</td>\n",
       "      <td>2012</td>\n",
       "      <td>White</td>\n",
       "    </tr>\n",
       "    <tr>\n",
       "      <th>2</th>\n",
       "      <td>Toyota Camry</td>\n",
       "      <td>Camry</td>\n",
       "      <td>Toyota</td>\n",
       "      <td>Sedan</td>\n",
       "      <td>2013</td>\n",
       "      <td>Gray</td>\n",
       "    </tr>\n",
       "    <tr>\n",
       "      <th>3</th>\n",
       "      <td>Toyota Camry</td>\n",
       "      <td>Camry</td>\n",
       "      <td>Toyota</td>\n",
       "      <td>Sedan</td>\n",
       "      <td>2008</td>\n",
       "      <td>White</td>\n",
       "    </tr>\n",
       "    <tr>\n",
       "      <th>4</th>\n",
       "      <td>Toyota Camry</td>\n",
       "      <td>Camry</td>\n",
       "      <td>Toyota</td>\n",
       "      <td>Sedan</td>\n",
       "      <td>2010</td>\n",
       "      <td>Silver</td>\n",
       "    </tr>\n",
       "  </tbody>\n",
       "</table>\n",
       "</div>"
      ],
      "text/plain": [
       "          model   type   brand  style  year   color\n",
       "0  Toyota Camry  Camry  Toyota  Sedan  2004   Black\n",
       "1  Toyota Camry  Camry  Toyota  Sedan  2012   White\n",
       "2  Toyota Camry  Camry  Toyota  Sedan  2013    Gray\n",
       "3  Toyota Camry  Camry  Toyota  Sedan  2008   White\n",
       "4  Toyota Camry  Camry  Toyota  Sedan  2010  Silver"
      ]
     },
     "execution_count": 81,
     "metadata": {},
     "output_type": "execute_result"
    }
   ],
   "source": [
    "# Dropping the duplicates \n",
    "df = df.drop_duplicates()\n",
    "df.head(5)"
   ]
  },
  {
   "cell_type": "code",
   "execution_count": 82,
   "id": "a05d9a02",
   "metadata": {},
   "outputs": [
    {
     "data": {
      "text/plain": [
       "model    522\n",
       "type     522\n",
       "brand    522\n",
       "style    515\n",
       "year     522\n",
       "color    522\n",
       "dtype: int64"
      ]
     },
     "execution_count": 82,
     "metadata": {},
     "output_type": "execute_result"
    }
   ],
   "source": [
    "df.count()"
   ]
  },
  {
   "cell_type": "code",
   "execution_count": 83,
   "id": "f907d95e",
   "metadata": {},
   "outputs": [
    {
     "name": "stdout",
     "output_type": "stream",
     "text": [
      "model    0\n",
      "type     0\n",
      "brand    0\n",
      "style    7\n",
      "year     0\n",
      "color    0\n",
      "dtype: int64\n"
     ]
    }
   ],
   "source": [
    "# Finding the null values.\n",
    "print(df.isnull().sum())"
   ]
  },
  {
   "cell_type": "code",
   "execution_count": 84,
   "id": "e770bd59",
   "metadata": {},
   "outputs": [
    {
     "data": {
      "text/plain": [
       "model    515\n",
       "type     515\n",
       "brand    515\n",
       "style    515\n",
       "year     515\n",
       "color    515\n",
       "dtype: int64"
      ]
     },
     "execution_count": 84,
     "metadata": {},
     "output_type": "execute_result"
    }
   ],
   "source": [
    "# Dropping the missing values.\n",
    "df = df.dropna() \n",
    "df.count()"
   ]
  },
  {
   "cell_type": "code",
   "execution_count": 85,
   "id": "bcac5571",
   "metadata": {},
   "outputs": [
    {
     "data": {
      "text/plain": [
       "<AxesSubplot:xlabel='count', ylabel='brand'>"
      ]
     },
     "execution_count": 85,
     "metadata": {},
     "output_type": "execute_result"
    },
    {
     "data": {
      "image/png": "[encoded data removed]",
      "text/plain": [
       "<Figure size 432x288 with 1 Axes>"
      ]
     },
     "metadata": {
      "needs_background": "light"
     },
     "output_type": "display_data"
    }
   ],
   "source": [
    "sns.countplot(y=\"brand\", data=df)"
   ]
  },
  {
   "cell_type": "code",
   "execution_count": 86,
   "id": "b3a77ae3",
   "metadata": {},
   "outputs": [
    {
     "data": {
      "text/plain": [
       "<AxesSubplot:xlabel='count', ylabel='year'>"
      ]
     },
     "execution_count": 86,
     "metadata": {},
     "output_type": "execute_result"
    },
    {
     "data": {
      "image/png": "[encoded data removed]",
      "text/plain": [
       "<Figure size 432x288 with 1 Axes>"
      ]
     },
     "metadata": {
      "needs_background": "light"
     },
     "output_type": "display_data"
    }
   ],
   "source": [
    "sns.countplot(y=\"year\", data=df, palette=\"tab10\")"
   ]
  },
  {
   "cell_type": "code",
   "execution_count": 87,
   "id": "ea7e0787",
   "metadata": {},
   "outputs": [
    {
     "data": {
      "text/plain": [
       "<AxesSubplot:xlabel='count', ylabel='style'>"
      ]
     },
     "execution_count": 87,
     "metadata": {},
     "output_type": "execute_result"
    },
    {
     "data": {
      "image/png": "[encoded data removed]",
      "text/plain": [
       "<Figure size 432x288 with 1 Axes>"
      ]
     },
     "metadata": {
      "needs_background": "light"
     },
     "output_type": "display_data"
    }
   ],
   "source": [
    "sns.countplot(y=\"style\", data=df)"
   ]
  },
  {
   "cell_type": "code",
   "execution_count": 88,
   "id": "fc2bd7a6",
   "metadata": {},
   "outputs": [],
   "source": [
    "color_group = df.groupby(\"color\")[\"model\"].count()"
   ]
  },
  {
   "cell_type": "code",
   "execution_count": 89,
   "id": "312dd568",
   "metadata": {},
   "outputs": [
    {
     "data": {
      "text/plain": [
       "color\n",
       "Azure      2\n",
       "Beige      2\n",
       "Black    133\n",
       "Blue      34\n",
       "Brown      2\n",
       "Name: model, dtype: int64"
      ]
     },
     "execution_count": 89,
     "metadata": {},
     "output_type": "execute_result"
    }
   ],
   "source": [
    "color_group.head()"
   ]
  },
  {
   "cell_type": "code",
   "execution_count": 90,
   "id": "5ccdbdc8",
   "metadata": {},
   "outputs": [
    {
     "data": {
      "text/plain": [
       "<matplotlib.patches.Circle at 0x231a735c880>"
      ]
     },
     "execution_count": 90,
     "metadata": {},
     "output_type": "execute_result"
    },
    {
     "data": {
      "image/png": "[encoded data removed]",
      "text/plain": [
       "<Figure size 432x288 with 1 Axes>"
      ]
     },
     "metadata": {},
     "output_type": "display_data"
    }
   ],
   "source": [
    "color_group.plot.pie(y = \"Color\", pctdistance=0)\n",
    "centre_circle = plt.Circle((0,0),0.70,fc='white')\n",
    "fig = plt.gcf()\n",
    "fig.gca().add_artist(centre_circle)"
   ]
  },
  {
   "cell_type": "code",
   "execution_count": 91,
   "id": "d44e247b",
   "metadata": {},
   "outputs": [],
   "source": [
    "style_group = df.groupby(\"style\")[\"model\"].count()"
   ]
  },
  {
   "cell_type": "code",
   "execution_count": 92,
   "id": "d1b49f85",
   "metadata": {},
   "outputs": [
    {
     "data": {
      "text/plain": [
       "array(['Sedan', 'Hatchback', 'Universal', 'Pickup', 'SUV', 'Coupe',\n",
       "       'Minivan/Minibus', 'Universal ', 'Van', 'Cabriolet/Roadster'],\n",
       "      dtype=object)"
      ]
     },
     "execution_count": 92,
     "metadata": {},
     "output_type": "execute_result"
    }
   ],
   "source": [
    "df[\"style\"].unique()"
   ]
  },
  {
   "cell_type": "code",
   "execution_count": 93,
   "id": "0ea41159",
   "metadata": {},
   "outputs": [
    {
     "data": {
      "text/plain": [
       "<AxesSubplot:ylabel='model'>"
      ]
     },
     "execution_count": 93,
     "metadata": {},
     "output_type": "execute_result"
    },
    {
     "data": {
      "image/png": "[encoded data removed]",
      "text/plain": [
       "<Figure size 432x288 with 1 Axes>"
      ]
     },
     "metadata": {},
     "output_type": "display_data"
    }
   ],
   "source": [
    "style_group.plot.pie(y = \"style\", explode=[0.06]*10, shadow=True)"
   ]
  },
  {
   "cell_type": "code",
   "execution_count": null,
   "id": "0ad40eef",
   "metadata": {},
   "outputs": [],
   "source": []
  }
 ],
 "metadata": {
  "kernelspec": {
   "display_name": "Python 3 (ipykernel)",
   "language": "python",
   "name": "python3"
  },
  "language_info": {
   "codemirror_mode": {
    "name": "ipython",
    "version": 3
   },
   "file_extension": ".py",
   "mimetype": "text/x-python",
   "name": "python",
   "nbconvert_exporter": "python",
   "pygments_lexer": "ipython3",
   "version": "3.9.6"
  }
 },
 "nbformat": 4,
 "nbformat_minor": 5
}
