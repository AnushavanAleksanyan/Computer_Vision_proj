{
 "cells": [
  {
   "cell_type": "code",
   "execution_count": 121,
   "id": "2583615f",
   "metadata": {},
   "outputs": [],
   "source": [
    "import torch\n",
    "import torch.nn as nn\n",
    "import torch.nn.functional as F\n",
    "import torch.optim as optim\n",
    "\n",
    "import torchvision\n",
    "from torchvision import transforms\n",
    "from torchvision import models\n",
    "from torch.utils import data\n",
    "from torch.utils.tensorboard import SummaryWriter\n",
    "\n",
    "from sklearn.metrics import accuracy_score\n",
    "import matplotlib.pyplot as plt\n",
    "import numpy as np\n",
    "# import cv2"
   ]
  },
  {
   "cell_type": "code",
   "execution_count": 122,
   "id": "76b2bf46",
   "metadata": {},
   "outputs": [
    {
     "name": "stdout",
     "output_type": "stream",
     "text": [
      "1.9.0+cu111\n",
      "0.10.0+cu111\n"
     ]
    }
   ],
   "source": [
    "print(torch.__version__)\n",
    "print(torchvision.__version__)"
   ]
  },
  {
   "cell_type": "code",
   "execution_count": 123,
   "id": "8a89f1f6",
   "metadata": {},
   "outputs": [],
   "source": [
    "train_data_path = \"../data/train/\"\n",
    "test_data_path = \"../data/test/\""
   ]
  },
  {
   "cell_type": "code",
   "execution_count": 124,
   "id": "2e4aee34",
   "metadata": {},
   "outputs": [],
   "source": [
    "transforms = {\"train\":transforms.Compose([\n",
    "    transforms.Resize((128,128)),\n",
    "    #transforms.CenterCrop(64),\n",
    "    #transforms.RandomRotation(45),\n",
    "    transforms.ToTensor(),\n",
    "    transforms.Normalize(mean = [0.485,0.456,0.406],\n",
    "                        std = [0.229, 0.224, 0.225])]),\n",
    "    \"test\":transforms.Compose([\n",
    "    transforms.Resize((128,128)),\n",
    "    transforms.ToTensor(),\n",
    "    transforms.Normalize(mean = [0.485,0.456,0.406],\n",
    "                        std = [0.229, 0.224, 0.225])\n",
    "])}"
   ]
  },
  {
   "cell_type": "code",
   "execution_count": 125,
   "id": "a3a13aad",
   "metadata": {},
   "outputs": [],
   "source": [
    "train_data = torchvision.datasets.ImageFolder(root=train_data_path, transform=transforms[\"train\"])\n",
    "test_data = torchvision.datasets.ImageFolder(root=test_data_path, transform=transforms[\"test\"])"
   ]
  },
  {
   "cell_type": "code",
   "execution_count": 139,
   "id": "a4a8fec8",
   "metadata": {},
   "outputs": [
    {
     "data": {
      "text/plain": [
       "[('../data/train/White\\\\24620615.jpg', 15),\n",
       " ('../data/train/White\\\\24620616.jpg', 15),\n",
       " ('../data/train/White\\\\24622330.jpg', 15),\n",
       " ('../data/train/White\\\\24622331.jpg', 15),\n",
       " ('../data/train/White\\\\24622332.jpg', 15),\n",
       " ('../data/train/White\\\\24622333.jpg', 15),\n",
       " ('../data/train/White\\\\24622334.jpg', 15),\n",
       " ('../data/train/White\\\\24622335.jpg', 15),\n",
       " ('../data/train/White\\\\24622336.jpg', 15),\n",
       " ('../data/train/White\\\\24622337.jpg', 15)]"
      ]
     },
     "execution_count": 139,
     "metadata": {},
     "output_type": "execute_result"
    }
   ],
   "source": [
    "train_data.imgs[-10:]"
   ]
  },
  {
   "cell_type": "raw",
   "id": "937d425a",
   "metadata": {},
   "source": []
  },
  {
   "cell_type": "code",
   "execution_count": 126,
   "id": "3a4e6f70",
   "metadata": {},
   "outputs": [
    {
     "name": "stdout",
     "output_type": "stream",
     "text": [
      "Num Images in Train Dataset: 3416\n",
      "Num Images in Test Dataset: 373\n"
     ]
    }
   ],
   "source": [
    "print(\"Num Images in Train Dataset:\", len(train_data))\n",
    "print(\"Num Images in Test Dataset:\", len(test_data))"
   ]
  },
  {
   "cell_type": "code",
   "execution_count": 127,
   "id": "ca879aec",
   "metadata": {},
   "outputs": [],
   "source": [
    "batch_size=16\n",
    "train_data_loader = data.DataLoader(train_data, batch_size=batch_size, shuffle=True, num_workers=8)\n",
    "test_data_loader = data.DataLoader(test_data, batch_size=batch_size,num_workers=8)"
   ]
  },
  {
   "cell_type": "code",
   "execution_count": 128,
   "id": "5b58dcbf",
   "metadata": {},
   "outputs": [
    {
     "data": {
      "text/plain": [
       "3416"
      ]
     },
     "execution_count": 128,
     "metadata": {},
     "output_type": "execute_result"
    }
   ],
   "source": [
    "len(train_data)"
   ]
  },
  {
   "cell_type": "code",
   "execution_count": 129,
   "id": "eaa5feac",
   "metadata": {},
   "outputs": [
    {
     "data": {
      "text/plain": [
       "3416"
      ]
     },
     "execution_count": 129,
     "metadata": {},
     "output_type": "execute_result"
    }
   ],
   "source": [
    "len(train_data.targets)"
   ]
  },
  {
   "cell_type": "code",
   "execution_count": 130,
   "id": "59e5170f",
   "metadata": {},
   "outputs": [],
   "source": [
    "batch = next(iter(train_data_loader))"
   ]
  },
  {
   "cell_type": "code",
   "execution_count": 131,
   "id": "f05e7cb5",
   "metadata": {},
   "outputs": [],
   "source": [
    "images, labels = batch"
   ]
  },
  {
   "cell_type": "code",
   "execution_count": 132,
   "id": "bf0cffc4",
   "metadata": {},
   "outputs": [
    {
     "data": {
      "text/plain": [
       "torch.Size([16, 3, 128, 128])"
      ]
     },
     "execution_count": 132,
     "metadata": {},
     "output_type": "execute_result"
    }
   ],
   "source": [
    "images.shape"
   ]
  },
  {
   "cell_type": "code",
   "execution_count": 135,
   "id": "32439ded",
   "metadata": {},
   "outputs": [
    {
     "name": "stderr",
     "output_type": "stream",
     "text": [
      "Clipping input data to the valid range for imshow with RGB data ([0..1] for floats or [0..255] for integers).\n"
     ]
    },
    {
     "name": "stdout",
     "output_type": "stream",
     "text": [
      "Labels: tensor([ 8, 14, 14,  2,  2, 14,  2, 15,  2, 13, 14, 14,  5, 15,  2,  2])\n"
     ]
    },
    {
     "data": {
      "image/png": "[encoded data removed]",
      "text/plain": [
       "<Figure size 1080x1080 with 1 Axes>"
      ]
     },
     "metadata": {
      "needs_background": "light"
     },
     "output_type": "display_data"
    }
   ],
   "source": [
    "grid = torchvision.utils.make_grid(images, nrow=10)\n",
    "\n",
    "plt.figure(figsize=(15,15))\n",
    "plt.imshow(np.transpose(grid,(1,2,0)))\n",
    "print(\"Labels:\", labels)"
   ]
  },
  {
   "cell_type": "code",
   "execution_count": 137,
   "id": "52283bfd",
   "metadata": {},
   "outputs": [
    {
     "data": {
      "text/plain": [
       "torch.Size([3, 262, 1302])"
      ]
     },
     "execution_count": 137,
     "metadata": {},
     "output_type": "execute_result"
    }
   ],
   "source": [
    "grid.shape"
   ]
  },
  {
   "cell_type": "code",
   "execution_count": 70,
   "id": "06c8f032",
   "metadata": {},
   "outputs": [],
   "source": [
    "class Net(nn.Module):\n",
    "    def __init__(self):\n",
    "        super(Net, self).__init__()\n",
    "        self.conv1 = nn.Conv2d(in_channels=3, out_channels=6, kernel_size=5)\n",
    "        self.conv2 = nn.Conv2d(in_channels=6, out_channels=12, kernel_size=5)\n",
    "        \n",
    "        self.fc1 = nn.Linear(in_features=12*29*29, out_features=84)\n",
    "        self.fc2 = nn.Linear(in_features=84, out_features=50)\n",
    "        self.fc3 = nn.Linear(in_features=50, out_features=16)\n",
    "#         self.act3 = nn.Softmax(dim=1)\n",
    "    def forward(self, x):\n",
    "        # (1) input layer\n",
    "        x = x\n",
    "        \n",
    "        # (2) hidden conv layer\n",
    "        x = self.conv1(x)\n",
    "        x = F.relu(x)\n",
    "        x = F.max_pool2d(x, kernel_size=2, stride=2)\n",
    "        \n",
    "        # (3) hidden conv layer\n",
    "        x = self.conv2(x)\n",
    "        x = F.relu(x)\n",
    "        x = F.max_pool2d(x, kernel_size=2, stride=2)\n",
    "        \n",
    "        # (4) hidden linear layer\n",
    "        x = x.reshape(-1, 12*29*29)\n",
    "        x = self.fc1(x)\n",
    "        x = F.relu(x)\n",
    "\n",
    "        # (5) hidden linear layer\n",
    "        x = self.fc2(x)\n",
    "        x = F.relu(x)\n",
    "        \n",
    "        # (6) output layer\n",
    "        x = self.fc3(x)\n",
    "#         x = F.softmax(x,dim=1)\n",
    "        return x\n",
    "network = Net()"
   ]
  },
  {
   "cell_type": "code",
   "execution_count": 71,
   "id": "b5c7745d",
   "metadata": {},
   "outputs": [],
   "source": [
    "sample = next(iter(train_data))"
   ]
  },
  {
   "cell_type": "code",
   "execution_count": 72,
   "id": "7fc68ec9",
   "metadata": {},
   "outputs": [
    {
     "name": "stdout",
     "output_type": "stream",
     "text": [
      "0\n"
     ]
    },
    {
     "data": {
      "text/plain": [
       "torch.Size([3, 128, 128])"
      ]
     },
     "execution_count": 72,
     "metadata": {},
     "output_type": "execute_result"
    }
   ],
   "source": [
    "image,label = sample\n",
    "print(label)\n",
    "image.shape"
   ]
  },
  {
   "cell_type": "code",
   "execution_count": 73,
   "id": "df9e63c8",
   "metadata": {},
   "outputs": [
    {
     "data": {
      "text/plain": [
       "torch.Size([1, 3, 128, 128])"
      ]
     },
     "execution_count": 73,
     "metadata": {},
     "output_type": "execute_result"
    }
   ],
   "source": [
    "image.unsqueeze(0).shape"
   ]
  },
  {
   "cell_type": "code",
   "execution_count": 74,
   "id": "3972ca5e",
   "metadata": {},
   "outputs": [],
   "source": [
    "pred = network(image.unsqueeze(0))"
   ]
  },
  {
   "cell_type": "code",
   "execution_count": 75,
   "id": "5bc3d278",
   "metadata": {},
   "outputs": [
    {
     "data": {
      "text/plain": [
       "torch.Size([1, 16])"
      ]
     },
     "execution_count": 75,
     "metadata": {},
     "output_type": "execute_result"
    }
   ],
   "source": [
    "pred.shape"
   ]
  },
  {
   "cell_type": "code",
   "execution_count": 76,
   "id": "a4d39b69",
   "metadata": {},
   "outputs": [
    {
     "data": {
      "text/plain": [
       "tensor([0])"
      ]
     },
     "execution_count": 76,
     "metadata": {},
     "output_type": "execute_result"
    }
   ],
   "source": [
    "pred.argmax(dim=1)"
   ]
  },
  {
   "cell_type": "code",
   "execution_count": 77,
   "id": "b8f5d14a",
   "metadata": {},
   "outputs": [],
   "source": [
    "batch = next(iter(train_data_loader))"
   ]
  },
  {
   "cell_type": "code",
   "execution_count": 78,
   "id": "d7c08642",
   "metadata": {},
   "outputs": [],
   "source": [
    "images,labels = batch"
   ]
  },
  {
   "cell_type": "markdown",
   "id": "36533444",
   "metadata": {},
   "source": [
    "**Calculating the loss**"
   ]
  },
  {
   "cell_type": "code",
   "execution_count": 79,
   "id": "f04947cc",
   "metadata": {},
   "outputs": [],
   "source": [
    "preds = network(images)"
   ]
  },
  {
   "cell_type": "code",
   "execution_count": 80,
   "id": "d2f4912f",
   "metadata": {},
   "outputs": [
    {
     "data": {
      "text/plain": [
       "2.7751667499542236"
      ]
     },
     "execution_count": 80,
     "metadata": {},
     "output_type": "execute_result"
    }
   ],
   "source": [
    "loss = F.cross_entropy(preds,labels)\n",
    "loss.item()"
   ]
  },
  {
   "cell_type": "markdown",
   "id": "04222f0f",
   "metadata": {},
   "source": [
    "**Calculating gradients**"
   ]
  },
  {
   "cell_type": "code",
   "execution_count": 81,
   "id": "03d1d89b",
   "metadata": {},
   "outputs": [
    {
     "name": "stdout",
     "output_type": "stream",
     "text": [
      "Parameter containing:\n",
      "tensor([[[[ 0.0008,  0.1055, -0.1129, -0.0796, -0.0418],\n",
      "          [ 0.0261,  0.0786, -0.0015, -0.0263,  0.0167],\n",
      "          [ 0.0826, -0.0586, -0.1054,  0.0975, -0.0403],\n",
      "          [-0.0470, -0.0934, -0.0095,  0.0206,  0.0772],\n",
      "          [-0.0016,  0.0833, -0.0864, -0.1018, -0.0194]],\n",
      "\n",
      "         [[ 0.1000, -0.0689,  0.0582,  0.0062, -0.0812],\n",
      "          [-0.0146, -0.0379,  0.0164, -0.1145,  0.0982],\n",
      "          [-0.0553, -0.1067, -0.0357, -0.0447, -0.0876],\n",
      "          [-0.0953, -0.0799,  0.0451, -0.0248,  0.0360],\n",
      "          [-0.0660, -0.0338, -0.1027, -0.0161,  0.1026]],\n",
      "\n",
      "         [[-0.0321,  0.0346, -0.1122, -0.0208, -0.0968],\n",
      "          [-0.0190,  0.0814, -0.0518,  0.0516,  0.1100],\n",
      "          [ 0.0524,  0.1142,  0.1107,  0.0230, -0.0615],\n",
      "          [-0.0742,  0.0537, -0.0050,  0.0826,  0.0333],\n",
      "          [ 0.0881, -0.1006,  0.0703,  0.0196, -0.1056]]],\n",
      "\n",
      "\n",
      "        [[[-0.0218,  0.0418,  0.0049,  0.1066,  0.0198],\n",
      "          [-0.0967,  0.0255, -0.0393,  0.0267, -0.0220],\n",
      "          [ 0.0353, -0.0945,  0.1054, -0.0133,  0.1045],\n",
      "          [-0.0865, -0.0224, -0.0408,  0.0176, -0.0693],\n",
      "          [ 0.0301,  0.0038, -0.0934, -0.0031, -0.0482]],\n",
      "\n",
      "         [[-0.0468, -0.0005, -0.0650,  0.1110,  0.0203],\n",
      "          [ 0.0979,  0.0555, -0.0986,  0.0177,  0.0964],\n",
      "          [-0.0826, -0.0125, -0.0701,  0.0025, -0.0762],\n",
      "          [-0.0266,  0.0312,  0.0871,  0.0353,  0.0685],\n",
      "          [ 0.0535, -0.0539, -0.0921, -0.0799,  0.0633]],\n",
      "\n",
      "         [[ 0.0114, -0.0294,  0.0961, -0.0223, -0.0398],\n",
      "          [-0.0747, -0.0099, -0.0131, -0.0734, -0.0303],\n",
      "          [ 0.0242, -0.0858, -0.0591, -0.0131,  0.0840],\n",
      "          [ 0.0981, -0.0619,  0.0279, -0.0257, -0.0630],\n",
      "          [ 0.0738, -0.0624,  0.0094, -0.0267, -0.0671]]],\n",
      "\n",
      "\n",
      "        [[[ 0.0371,  0.0496,  0.0796,  0.0928, -0.1114],\n",
      "          [-0.1025,  0.0137, -0.0922,  0.1008, -0.0868],\n",
      "          [-0.0287, -0.0381,  0.0660, -0.0738, -0.0285],\n",
      "          [ 0.0817,  0.0464, -0.0240,  0.0490, -0.0996],\n",
      "          [-0.0227,  0.0070, -0.1074, -0.0096,  0.0990]],\n",
      "\n",
      "         [[ 0.1036, -0.1111, -0.0117, -0.0653,  0.0298],\n",
      "          [ 0.0137, -0.0892, -0.0886,  0.0092, -0.0745],\n",
      "          [ 0.0881, -0.0969,  0.0440, -0.0411, -0.0398],\n",
      "          [ 0.0401,  0.0616,  0.0125,  0.0358, -0.0541],\n",
      "          [-0.0696,  0.0679, -0.1032, -0.0744,  0.0466]],\n",
      "\n",
      "         [[ 0.0892,  0.0334, -0.0209,  0.0930, -0.1080],\n",
      "          [ 0.0435,  0.0071, -0.0360,  0.1152, -0.0435],\n",
      "          [-0.0082,  0.0783,  0.0470,  0.0876,  0.0704],\n",
      "          [ 0.0112, -0.0340, -0.1152, -0.1139,  0.0335],\n",
      "          [ 0.0530, -0.1073,  0.0855, -0.1024, -0.0647]]],\n",
      "\n",
      "\n",
      "        [[[-0.0363, -0.0195,  0.0822, -0.0892,  0.0570],\n",
      "          [ 0.1064,  0.0111, -0.0217,  0.0354, -0.0077],\n",
      "          [ 0.0657, -0.0381,  0.1064,  0.0505,  0.0188],\n",
      "          [-0.0526,  0.0926, -0.0795, -0.0816,  0.0667],\n",
      "          [ 0.0931,  0.0773, -0.0097,  0.0938, -0.0644]],\n",
      "\n",
      "         [[ 0.0520, -0.0757,  0.0233,  0.0962, -0.0062],\n",
      "          [ 0.0729, -0.0801,  0.0987,  0.0668, -0.0264],\n",
      "          [ 0.1107,  0.1058,  0.0573,  0.0751, -0.0474],\n",
      "          [-0.0333, -0.0832,  0.0648,  0.1056, -0.1105],\n",
      "          [-0.1094,  0.0002, -0.0650, -0.0539, -0.0361]],\n",
      "\n",
      "         [[ 0.0068,  0.0153, -0.0920,  0.0117, -0.0144],\n",
      "          [ 0.0573, -0.0916,  0.1101, -0.0240,  0.0074],\n",
      "          [-0.1042,  0.0324, -0.1008,  0.0321,  0.0241],\n",
      "          [-0.0434,  0.0758,  0.0446, -0.0330,  0.0104],\n",
      "          [ 0.0014, -0.0645,  0.0478, -0.0979,  0.0953]]],\n",
      "\n",
      "\n",
      "        [[[ 0.0848,  0.0828,  0.0049, -0.0998, -0.0263],\n",
      "          [-0.0930,  0.0423,  0.0966,  0.0474, -0.0139],\n",
      "          [ 0.1144,  0.0300, -0.0190, -0.1076, -0.0274],\n",
      "          [ 0.0259, -0.0039, -0.0849, -0.0454, -0.0766],\n",
      "          [ 0.0749, -0.0590,  0.0298,  0.1002,  0.0429]],\n",
      "\n",
      "         [[-0.0646, -0.0244, -0.0083, -0.0475, -0.0687],\n",
      "          [-0.1038, -0.0850,  0.0556, -0.0691, -0.0424],\n",
      "          [-0.0207, -0.0944,  0.0978,  0.0740, -0.0081],\n",
      "          [-0.0267, -0.0106, -0.1099, -0.0382,  0.0854],\n",
      "          [-0.0491,  0.0291, -0.0705, -0.0916, -0.0561]],\n",
      "\n",
      "         [[ 0.1121,  0.0727, -0.0716, -0.0953,  0.0674],\n",
      "          [-0.0922, -0.1138,  0.0414,  0.0357, -0.1012],\n",
      "          [ 0.0647,  0.0283,  0.0195, -0.0653,  0.0221],\n",
      "          [-0.0955,  0.0664, -0.0500,  0.0844, -0.1038],\n",
      "          [-0.0258, -0.1054, -0.0508,  0.0920,  0.0010]]],\n",
      "\n",
      "\n",
      "        [[[-0.0537, -0.0206, -0.1128,  0.0464, -0.0986],\n",
      "          [-0.0411, -0.0861,  0.0890,  0.0424, -0.0630],\n",
      "          [-0.0072, -0.1075,  0.0957,  0.1148,  0.0669],\n",
      "          [-0.1110,  0.0187, -0.0562,  0.0889,  0.0221],\n",
      "          [ 0.0222, -0.0513, -0.0092,  0.0710, -0.0161]],\n",
      "\n",
      "         [[ 0.0371, -0.0365,  0.0041, -0.0703, -0.0172],\n",
      "          [-0.0778, -0.0360,  0.0198,  0.0382, -0.0978],\n",
      "          [-0.0565, -0.0827,  0.0873,  0.1051, -0.0081],\n",
      "          [ 0.1009,  0.0351,  0.1087, -0.0535,  0.0515],\n",
      "          [ 0.0820,  0.0625,  0.0588,  0.0086,  0.0599]],\n",
      "\n",
      "         [[-0.0550,  0.0035, -0.0706, -0.0695, -0.0990],\n",
      "          [-0.1048, -0.0626,  0.0562,  0.0905,  0.0499],\n",
      "          [ 0.0299, -0.0592,  0.0277,  0.0216,  0.0432],\n",
      "          [-0.0146,  0.0177,  0.0665,  0.0319,  0.0298],\n",
      "          [-0.0178,  0.0088, -0.0025,  0.0797, -0.0550]]]], requires_grad=True)\n"
     ]
    }
   ],
   "source": [
    "print(network.conv1.weight)"
   ]
  },
  {
   "cell_type": "code",
   "execution_count": 82,
   "id": "7907e51a",
   "metadata": {},
   "outputs": [],
   "source": [
    "loss.backward()  # Calculating gradients"
   ]
  },
  {
   "cell_type": "code",
   "execution_count": 83,
   "id": "d282845a",
   "metadata": {},
   "outputs": [
    {
     "data": {
      "text/plain": [
       "torch.Size([6, 3, 5, 5])"
      ]
     },
     "execution_count": 83,
     "metadata": {},
     "output_type": "execute_result"
    }
   ],
   "source": [
    "network.conv1.weight.grad.shape"
   ]
  },
  {
   "cell_type": "markdown",
   "id": "ded49916",
   "metadata": {},
   "source": [
    "**Updating the Weights**"
   ]
  },
  {
   "cell_type": "code",
   "execution_count": 84,
   "id": "7724d50b",
   "metadata": {},
   "outputs": [],
   "source": [
    "optimizer = optim.Adam(network.parameters(), lr=0.001)"
   ]
  },
  {
   "cell_type": "code",
   "execution_count": 85,
   "id": "6adbd260",
   "metadata": {},
   "outputs": [
    {
     "data": {
      "text/plain": [
       "2.7751667499542236"
      ]
     },
     "execution_count": 85,
     "metadata": {},
     "output_type": "execute_result"
    }
   ],
   "source": [
    "loss.item()"
   ]
  },
  {
   "cell_type": "markdown",
   "id": "06941758",
   "metadata": {},
   "source": [
    "**TensorBoard**"
   ]
  },
  {
   "cell_type": "code",
   "execution_count": 86,
   "id": "f01bcefb",
   "metadata": {},
   "outputs": [],
   "source": [
    "# tb = SummaryWriter()\n",
    "\n",
    "# network = Net()\n",
    "# images, labels = next(iter(train_data_loader))\n",
    "# grid = torchvision.utils.make_grid(images)\n",
    "\n",
    "# tb.add_image('images', grid)\n",
    "# tb.add_graph(network,images)\n",
    "# tb.close()\n"
   ]
  },
  {
   "cell_type": "markdown",
   "id": "15948d5a",
   "metadata": {},
   "source": [
    "**train the model**"
   ]
  },
  {
   "cell_type": "code",
   "execution_count": 87,
   "id": "4babd620",
   "metadata": {},
   "outputs": [],
   "source": [
    "def get_num_correct(preds,labels):\n",
    "    return preds.argmax(dim=1).eq(labels).sum().item()"
   ]
  },
  {
   "cell_type": "code",
   "execution_count": 88,
   "id": "60c38564",
   "metadata": {},
   "outputs": [],
   "source": [
    "\n",
    "# for epoch in range(1,25):\n",
    "#     total_loss = 0\n",
    "#     total_correct = 0\n",
    "#     for batch in train_data_loader:\n",
    "#         images,labels = batch\n",
    "\n",
    "#         preds = network(images)\n",
    "#         loss = F.cross_entropy(preds,labels) # Calculate Loss\n",
    "\n",
    "#         optimizer.zero_grad()\n",
    "#         loss.backward()\n",
    "#         optimizer.step()\n",
    "\n",
    "#         total_loss+=loss.item()\n",
    "#         total_correct+=get_num_correct(preds, labels)\n",
    "#     print(\"epoch:\", epoch, \"total_correct:\", total_correct, \"loss:\", total_loss)\n"
   ]
  },
  {
   "cell_type": "code",
   "execution_count": 89,
   "id": "91577c0d",
   "metadata": {},
   "outputs": [
    {
     "data": {
      "text/plain": [
       "0"
      ]
     },
     "execution_count": 89,
     "metadata": {},
     "output_type": "execute_result"
    }
   ],
   "source": [
    "get_num_correct(preds,labels)"
   ]
  },
  {
   "cell_type": "code",
   "execution_count": 90,
   "id": "64ca775c",
   "metadata": {},
   "outputs": [],
   "source": [
    "preds = network(images)\n",
    "loss = F.cross_entropy(preds,labels)"
   ]
  },
  {
   "cell_type": "code",
   "execution_count": 91,
   "id": "5c489431",
   "metadata": {},
   "outputs": [
    {
     "data": {
      "text/plain": [
       "2.7751667499542236"
      ]
     },
     "execution_count": 91,
     "metadata": {},
     "output_type": "execute_result"
    }
   ],
   "source": [
    "loss.item()"
   ]
  },
  {
   "cell_type": "code",
   "execution_count": 92,
   "id": "5c0cb4f9",
   "metadata": {},
   "outputs": [
    {
     "data": {
      "text/plain": [
       "0"
      ]
     },
     "execution_count": 92,
     "metadata": {},
     "output_type": "execute_result"
    }
   ],
   "source": [
    "get_num_correct(preds,labels)"
   ]
  },
  {
   "cell_type": "code",
   "execution_count": 93,
   "id": "002034ba",
   "metadata": {},
   "outputs": [
    {
     "data": {
      "text/plain": [
       "torch.Size([16, 16])"
      ]
     },
     "execution_count": 93,
     "metadata": {},
     "output_type": "execute_result"
    }
   ],
   "source": [
    "preds.shape"
   ]
  },
  {
   "cell_type": "code",
   "execution_count": 94,
   "id": "d70c68fd",
   "metadata": {},
   "outputs": [
    {
     "data": {
      "text/plain": [
       "tensor([[ 0.0824, -0.0050, -0.0817, -0.0969, -0.1094, -0.0304, -0.1151, -0.1550,\n",
       "          0.0344, -0.0629, -0.0933,  0.0463, -0.1242, -0.0331, -0.0697, -0.0628],\n",
       "        [ 0.0645, -0.0019, -0.0539, -0.0709, -0.0750, -0.0354, -0.0549, -0.1299,\n",
       "          0.0122, -0.0591, -0.0969,  0.0547, -0.1083, -0.0392, -0.0511, -0.0482],\n",
       "        [ 0.0917, -0.0218, -0.1198, -0.0548, -0.1169, -0.0315, -0.1011, -0.1662,\n",
       "          0.0146, -0.0558, -0.0789,  0.0628, -0.1119, -0.0555, -0.0583, -0.0669],\n",
       "        [ 0.0841, -0.0062, -0.0650, -0.0303, -0.0962, -0.0401, -0.0915, -0.1459,\n",
       "          0.0111, -0.0326, -0.1002,  0.0504, -0.1511, -0.0479, -0.0619, -0.0367],\n",
       "        [ 0.0882,  0.0041, -0.0984, -0.0819, -0.0910, -0.0281, -0.1165, -0.1690,\n",
       "          0.0449, -0.0445, -0.1013,  0.0637, -0.1602, -0.0326, -0.0736, -0.0587],\n",
       "        [ 0.0467, -0.0269, -0.0851, -0.0789, -0.1066, -0.0622, -0.1047, -0.1921,\n",
       "          0.0410, -0.0537, -0.0675,  0.0469, -0.1305, -0.0368, -0.0777, -0.1023],\n",
       "        [ 0.0676, -0.0222, -0.1029, -0.0545, -0.0716, -0.0134, -0.0847, -0.1612,\n",
       "          0.0043, -0.0449, -0.1008,  0.0451, -0.1414, -0.0495, -0.0644, -0.0320],\n",
       "        [ 0.0862, -0.0205, -0.0886, -0.0884, -0.1202, -0.0376, -0.1142, -0.1515,\n",
       "          0.0173, -0.0770, -0.0905,  0.0469, -0.1407, -0.0303, -0.0844, -0.0726],\n",
       "        [ 0.1041, -0.0252, -0.1076, -0.0795, -0.1339, -0.0518, -0.1471, -0.1668,\n",
       "          0.0104, -0.0748, -0.1056,  0.0673, -0.1595, -0.0226, -0.0763, -0.0682],\n",
       "        [ 0.0839, -0.0177, -0.0649, -0.0431, -0.1076, -0.0049, -0.0929, -0.1650,\n",
       "          0.0079, -0.0303, -0.0759,  0.0476, -0.1378, -0.0410, -0.0886, -0.0606],\n",
       "        [ 0.1012, -0.0136, -0.0878, -0.0921, -0.1298, -0.0389, -0.1093, -0.1660,\n",
       "          0.0443, -0.0587, -0.0890,  0.0477, -0.1299, -0.0422, -0.0887, -0.0531],\n",
       "        [ 0.0655, -0.0062, -0.0868, -0.0549, -0.0979, -0.0142, -0.0805, -0.1682,\n",
       "          0.0397, -0.0583, -0.0672,  0.0478, -0.1301, -0.0385, -0.0770, -0.0723],\n",
       "        [ 0.0692, -0.0262, -0.0932, -0.0837, -0.1014, -0.0404, -0.1159, -0.1710,\n",
       "          0.0263, -0.0695, -0.0900,  0.0594, -0.1414, -0.0320, -0.0671, -0.0749],\n",
       "        [ 0.0531, -0.0150, -0.0896, -0.0733, -0.0883, -0.0225, -0.1156, -0.1559,\n",
       "          0.0164, -0.0692, -0.1013,  0.0533, -0.1482, -0.0288, -0.0769, -0.0637],\n",
       "        [ 0.0633, -0.0118, -0.0998, -0.0828, -0.0938, -0.0180, -0.1190, -0.1694,\n",
       "          0.0534, -0.0537, -0.0911,  0.0391, -0.1456, -0.0439, -0.1041, -0.0768],\n",
       "        [ 0.0790, -0.0168, -0.0904, -0.0853, -0.1126, -0.0290, -0.1141, -0.1611,\n",
       "          0.0322, -0.0820, -0.1010,  0.0434, -0.1449, -0.0332, -0.0921, -0.0644]],\n",
       "       grad_fn=<AddmmBackward>)"
      ]
     },
     "execution_count": 94,
     "metadata": {},
     "output_type": "execute_result"
    }
   ],
   "source": [
    "preds"
   ]
  },
  {
   "cell_type": "code",
   "execution_count": 95,
   "id": "e3fda4f7",
   "metadata": {},
   "outputs": [
    {
     "data": {
      "text/plain": [
       "tensor([ 0,  0,  0,  0,  0, 11,  0,  0,  0,  0,  0,  0,  0, 11,  0,  0])"
      ]
     },
     "execution_count": 95,
     "metadata": {},
     "output_type": "execute_result"
    }
   ],
   "source": [
    "preds.argmax(dim=1)"
   ]
  },
  {
   "cell_type": "code",
   "execution_count": 96,
   "id": "52e6f920",
   "metadata": {},
   "outputs": [
    {
     "data": {
      "text/plain": [
       "tensor([False, False, False, False, False, False, False, False, False, False,\n",
       "        False, False, False, False, False, False])"
      ]
     },
     "execution_count": 96,
     "metadata": {},
     "output_type": "execute_result"
    }
   ],
   "source": [
    "preds.argmax(dim=1).eq(labels)"
   ]
  },
  {
   "cell_type": "code",
   "execution_count": 97,
   "id": "ffadbdd6",
   "metadata": {},
   "outputs": [],
   "source": [
    "device = torch.device(\"cuda:0\" if torch.cuda.is_available() else \"cpu\")"
   ]
  },
  {
   "cell_type": "markdown",
   "id": "a1a923f2",
   "metadata": {},
   "source": [
    "**Transfer learning**"
   ]
  },
  {
   "cell_type": "code",
   "execution_count": 98,
   "id": "dd8a08d5",
   "metadata": {},
   "outputs": [
    {
     "data": {
      "text/plain": [
       "ResNet(\n",
       "  (conv1): Conv2d(3, 64, kernel_size=(7, 7), stride=(2, 2), padding=(3, 3), bias=False)\n",
       "  (bn1): BatchNorm2d(64, eps=1e-05, momentum=0.1, affine=True, track_running_stats=True)\n",
       "  (relu): ReLU(inplace=True)\n",
       "  (maxpool): MaxPool2d(kernel_size=3, stride=2, padding=1, dilation=1, ceil_mode=False)\n",
       "  (layer1): Sequential(\n",
       "    (0): BasicBlock(\n",
       "      (conv1): Conv2d(64, 64, kernel_size=(3, 3), stride=(1, 1), padding=(1, 1), bias=False)\n",
       "      (bn1): BatchNorm2d(64, eps=1e-05, momentum=0.1, affine=True, track_running_stats=True)\n",
       "      (relu): ReLU(inplace=True)\n",
       "      (conv2): Conv2d(64, 64, kernel_size=(3, 3), stride=(1, 1), padding=(1, 1), bias=False)\n",
       "      (bn2): BatchNorm2d(64, eps=1e-05, momentum=0.1, affine=True, track_running_stats=True)\n",
       "    )\n",
       "    (1): BasicBlock(\n",
       "      (conv1): Conv2d(64, 64, kernel_size=(3, 3), stride=(1, 1), padding=(1, 1), bias=False)\n",
       "      (bn1): BatchNorm2d(64, eps=1e-05, momentum=0.1, affine=True, track_running_stats=True)\n",
       "      (relu): ReLU(inplace=True)\n",
       "      (conv2): Conv2d(64, 64, kernel_size=(3, 3), stride=(1, 1), padding=(1, 1), bias=False)\n",
       "      (bn2): BatchNorm2d(64, eps=1e-05, momentum=0.1, affine=True, track_running_stats=True)\n",
       "    )\n",
       "  )\n",
       "  (layer2): Sequential(\n",
       "    (0): BasicBlock(\n",
       "      (conv1): Conv2d(64, 128, kernel_size=(3, 3), stride=(2, 2), padding=(1, 1), bias=False)\n",
       "      (bn1): BatchNorm2d(128, eps=1e-05, momentum=0.1, affine=True, track_running_stats=True)\n",
       "      (relu): ReLU(inplace=True)\n",
       "      (conv2): Conv2d(128, 128, kernel_size=(3, 3), stride=(1, 1), padding=(1, 1), bias=False)\n",
       "      (bn2): BatchNorm2d(128, eps=1e-05, momentum=0.1, affine=True, track_running_stats=True)\n",
       "      (downsample): Sequential(\n",
       "        (0): Conv2d(64, 128, kernel_size=(1, 1), stride=(2, 2), bias=False)\n",
       "        (1): BatchNorm2d(128, eps=1e-05, momentum=0.1, affine=True, track_running_stats=True)\n",
       "      )\n",
       "    )\n",
       "    (1): BasicBlock(\n",
       "      (conv1): Conv2d(128, 128, kernel_size=(3, 3), stride=(1, 1), padding=(1, 1), bias=False)\n",
       "      (bn1): BatchNorm2d(128, eps=1e-05, momentum=0.1, affine=True, track_running_stats=True)\n",
       "      (relu): ReLU(inplace=True)\n",
       "      (conv2): Conv2d(128, 128, kernel_size=(3, 3), stride=(1, 1), padding=(1, 1), bias=False)\n",
       "      (bn2): BatchNorm2d(128, eps=1e-05, momentum=0.1, affine=True, track_running_stats=True)\n",
       "    )\n",
       "  )\n",
       "  (layer3): Sequential(\n",
       "    (0): BasicBlock(\n",
       "      (conv1): Conv2d(128, 256, kernel_size=(3, 3), stride=(2, 2), padding=(1, 1), bias=False)\n",
       "      (bn1): BatchNorm2d(256, eps=1e-05, momentum=0.1, affine=True, track_running_stats=True)\n",
       "      (relu): ReLU(inplace=True)\n",
       "      (conv2): Conv2d(256, 256, kernel_size=(3, 3), stride=(1, 1), padding=(1, 1), bias=False)\n",
       "      (bn2): BatchNorm2d(256, eps=1e-05, momentum=0.1, affine=True, track_running_stats=True)\n",
       "      (downsample): Sequential(\n",
       "        (0): Conv2d(128, 256, kernel_size=(1, 1), stride=(2, 2), bias=False)\n",
       "        (1): BatchNorm2d(256, eps=1e-05, momentum=0.1, affine=True, track_running_stats=True)\n",
       "      )\n",
       "    )\n",
       "    (1): BasicBlock(\n",
       "      (conv1): Conv2d(256, 256, kernel_size=(3, 3), stride=(1, 1), padding=(1, 1), bias=False)\n",
       "      (bn1): BatchNorm2d(256, eps=1e-05, momentum=0.1, affine=True, track_running_stats=True)\n",
       "      (relu): ReLU(inplace=True)\n",
       "      (conv2): Conv2d(256, 256, kernel_size=(3, 3), stride=(1, 1), padding=(1, 1), bias=False)\n",
       "      (bn2): BatchNorm2d(256, eps=1e-05, momentum=0.1, affine=True, track_running_stats=True)\n",
       "    )\n",
       "  )\n",
       "  (layer4): Sequential(\n",
       "    (0): BasicBlock(\n",
       "      (conv1): Conv2d(256, 512, kernel_size=(3, 3), stride=(2, 2), padding=(1, 1), bias=False)\n",
       "      (bn1): BatchNorm2d(512, eps=1e-05, momentum=0.1, affine=True, track_running_stats=True)\n",
       "      (relu): ReLU(inplace=True)\n",
       "      (conv2): Conv2d(512, 512, kernel_size=(3, 3), stride=(1, 1), padding=(1, 1), bias=False)\n",
       "      (bn2): BatchNorm2d(512, eps=1e-05, momentum=0.1, affine=True, track_running_stats=True)\n",
       "      (downsample): Sequential(\n",
       "        (0): Conv2d(256, 512, kernel_size=(1, 1), stride=(2, 2), bias=False)\n",
       "        (1): BatchNorm2d(512, eps=1e-05, momentum=0.1, affine=True, track_running_stats=True)\n",
       "      )\n",
       "    )\n",
       "    (1): BasicBlock(\n",
       "      (conv1): Conv2d(512, 512, kernel_size=(3, 3), stride=(1, 1), padding=(1, 1), bias=False)\n",
       "      (bn1): BatchNorm2d(512, eps=1e-05, momentum=0.1, affine=True, track_running_stats=True)\n",
       "      (relu): ReLU(inplace=True)\n",
       "      (conv2): Conv2d(512, 512, kernel_size=(3, 3), stride=(1, 1), padding=(1, 1), bias=False)\n",
       "      (bn2): BatchNorm2d(512, eps=1e-05, momentum=0.1, affine=True, track_running_stats=True)\n",
       "    )\n",
       "  )\n",
       "  (avgpool): AdaptiveAvgPool2d(output_size=(1, 1))\n",
       "  (fc): Linear(in_features=512, out_features=16, bias=True)\n",
       ")"
      ]
     },
     "execution_count": 98,
     "metadata": {},
     "output_type": "execute_result"
    }
   ],
   "source": [
    "model = models.resnet18(pretrained=True)\n",
    "\n",
    "criterion = nn.CrossEntropyLoss()\n",
    "optimizer = optim.SGD(model.parameters(), lr=0.001)\n",
    "\n",
    "def accuracy(out, labels):\n",
    "    _,pred = torch.max(out, dim=1)\n",
    "    return torch.sum(pred==labels).item()\n",
    "\n",
    "num_ftrs = model.fc.in_features\n",
    "model.fc = nn.Linear(num_ftrs, 16)\n",
    "model.to(device)"
   ]
  },
  {
   "cell_type": "code",
   "execution_count": 99,
   "id": "c220b272",
   "metadata": {},
   "outputs": [
    {
     "data": {
      "text/plain": [
       "ResNet(\n",
       "  (conv1): Conv2d(3, 64, kernel_size=(7, 7), stride=(2, 2), padding=(3, 3), bias=False)\n",
       "  (bn1): BatchNorm2d(64, eps=1e-05, momentum=0.1, affine=True, track_running_stats=True)\n",
       "  (relu): ReLU(inplace=True)\n",
       "  (maxpool): MaxPool2d(kernel_size=3, stride=2, padding=1, dilation=1, ceil_mode=False)\n",
       "  (layer1): Sequential(\n",
       "    (0): Bottleneck(\n",
       "      (conv1): Conv2d(64, 64, kernel_size=(1, 1), stride=(1, 1), bias=False)\n",
       "      (bn1): BatchNorm2d(64, eps=1e-05, momentum=0.1, affine=True, track_running_stats=True)\n",
       "      (conv2): Conv2d(64, 64, kernel_size=(3, 3), stride=(1, 1), padding=(1, 1), bias=False)\n",
       "      (bn2): BatchNorm2d(64, eps=1e-05, momentum=0.1, affine=True, track_running_stats=True)\n",
       "      (conv3): Conv2d(64, 256, kernel_size=(1, 1), stride=(1, 1), bias=False)\n",
       "      (bn3): BatchNorm2d(256, eps=1e-05, momentum=0.1, affine=True, track_running_stats=True)\n",
       "      (relu): ReLU(inplace=True)\n",
       "      (downsample): Sequential(\n",
       "        (0): Conv2d(64, 256, kernel_size=(1, 1), stride=(1, 1), bias=False)\n",
       "        (1): BatchNorm2d(256, eps=1e-05, momentum=0.1, affine=True, track_running_stats=True)\n",
       "      )\n",
       "    )\n",
       "    (1): Bottleneck(\n",
       "      (conv1): Conv2d(256, 64, kernel_size=(1, 1), stride=(1, 1), bias=False)\n",
       "      (bn1): BatchNorm2d(64, eps=1e-05, momentum=0.1, affine=True, track_running_stats=True)\n",
       "      (conv2): Conv2d(64, 64, kernel_size=(3, 3), stride=(1, 1), padding=(1, 1), bias=False)\n",
       "      (bn2): BatchNorm2d(64, eps=1e-05, momentum=0.1, affine=True, track_running_stats=True)\n",
       "      (conv3): Conv2d(64, 256, kernel_size=(1, 1), stride=(1, 1), bias=False)\n",
       "      (bn3): BatchNorm2d(256, eps=1e-05, momentum=0.1, affine=True, track_running_stats=True)\n",
       "      (relu): ReLU(inplace=True)\n",
       "    )\n",
       "    (2): Bottleneck(\n",
       "      (conv1): Conv2d(256, 64, kernel_size=(1, 1), stride=(1, 1), bias=False)\n",
       "      (bn1): BatchNorm2d(64, eps=1e-05, momentum=0.1, affine=True, track_running_stats=True)\n",
       "      (conv2): Conv2d(64, 64, kernel_size=(3, 3), stride=(1, 1), padding=(1, 1), bias=False)\n",
       "      (bn2): BatchNorm2d(64, eps=1e-05, momentum=0.1, affine=True, track_running_stats=True)\n",
       "      (conv3): Conv2d(64, 256, kernel_size=(1, 1), stride=(1, 1), bias=False)\n",
       "      (bn3): BatchNorm2d(256, eps=1e-05, momentum=0.1, affine=True, track_running_stats=True)\n",
       "      (relu): ReLU(inplace=True)\n",
       "    )\n",
       "  )\n",
       "  (layer2): Sequential(\n",
       "    (0): Bottleneck(\n",
       "      (conv1): Conv2d(256, 128, kernel_size=(1, 1), stride=(1, 1), bias=False)\n",
       "      (bn1): BatchNorm2d(128, eps=1e-05, momentum=0.1, affine=True, track_running_stats=True)\n",
       "      (conv2): Conv2d(128, 128, kernel_size=(3, 3), stride=(2, 2), padding=(1, 1), bias=False)\n",
       "      (bn2): BatchNorm2d(128, eps=1e-05, momentum=0.1, affine=True, track_running_stats=True)\n",
       "      (conv3): Conv2d(128, 512, kernel_size=(1, 1), stride=(1, 1), bias=False)\n",
       "      (bn3): BatchNorm2d(512, eps=1e-05, momentum=0.1, affine=True, track_running_stats=True)\n",
       "      (relu): ReLU(inplace=True)\n",
       "      (downsample): Sequential(\n",
       "        (0): Conv2d(256, 512, kernel_size=(1, 1), stride=(2, 2), bias=False)\n",
       "        (1): BatchNorm2d(512, eps=1e-05, momentum=0.1, affine=True, track_running_stats=True)\n",
       "      )\n",
       "    )\n",
       "    (1): Bottleneck(\n",
       "      (conv1): Conv2d(512, 128, kernel_size=(1, 1), stride=(1, 1), bias=False)\n",
       "      (bn1): BatchNorm2d(128, eps=1e-05, momentum=0.1, affine=True, track_running_stats=True)\n",
       "      (conv2): Conv2d(128, 128, kernel_size=(3, 3), stride=(1, 1), padding=(1, 1), bias=False)\n",
       "      (bn2): BatchNorm2d(128, eps=1e-05, momentum=0.1, affine=True, track_running_stats=True)\n",
       "      (conv3): Conv2d(128, 512, kernel_size=(1, 1), stride=(1, 1), bias=False)\n",
       "      (bn3): BatchNorm2d(512, eps=1e-05, momentum=0.1, affine=True, track_running_stats=True)\n",
       "      (relu): ReLU(inplace=True)\n",
       "    )\n",
       "    (2): Bottleneck(\n",
       "      (conv1): Conv2d(512, 128, kernel_size=(1, 1), stride=(1, 1), bias=False)\n",
       "      (bn1): BatchNorm2d(128, eps=1e-05, momentum=0.1, affine=True, track_running_stats=True)\n",
       "      (conv2): Conv2d(128, 128, kernel_size=(3, 3), stride=(1, 1), padding=(1, 1), bias=False)\n",
       "      (bn2): BatchNorm2d(128, eps=1e-05, momentum=0.1, affine=True, track_running_stats=True)\n",
       "      (conv3): Conv2d(128, 512, kernel_size=(1, 1), stride=(1, 1), bias=False)\n",
       "      (bn3): BatchNorm2d(512, eps=1e-05, momentum=0.1, affine=True, track_running_stats=True)\n",
       "      (relu): ReLU(inplace=True)\n",
       "    )\n",
       "    (3): Bottleneck(\n",
       "      (conv1): Conv2d(512, 128, kernel_size=(1, 1), stride=(1, 1), bias=False)\n",
       "      (bn1): BatchNorm2d(128, eps=1e-05, momentum=0.1, affine=True, track_running_stats=True)\n",
       "      (conv2): Conv2d(128, 128, kernel_size=(3, 3), stride=(1, 1), padding=(1, 1), bias=False)\n",
       "      (bn2): BatchNorm2d(128, eps=1e-05, momentum=0.1, affine=True, track_running_stats=True)\n",
       "      (conv3): Conv2d(128, 512, kernel_size=(1, 1), stride=(1, 1), bias=False)\n",
       "      (bn3): BatchNorm2d(512, eps=1e-05, momentum=0.1, affine=True, track_running_stats=True)\n",
       "      (relu): ReLU(inplace=True)\n",
       "    )\n",
       "  )\n",
       "  (layer3): Sequential(\n",
       "    (0): Bottleneck(\n",
       "      (conv1): Conv2d(512, 256, kernel_size=(1, 1), stride=(1, 1), bias=False)\n",
       "      (bn1): BatchNorm2d(256, eps=1e-05, momentum=0.1, affine=True, track_running_stats=True)\n",
       "      (conv2): Conv2d(256, 256, kernel_size=(3, 3), stride=(2, 2), padding=(1, 1), bias=False)\n",
       "      (bn2): BatchNorm2d(256, eps=1e-05, momentum=0.1, affine=True, track_running_stats=True)\n",
       "      (conv3): Conv2d(256, 1024, kernel_size=(1, 1), stride=(1, 1), bias=False)\n",
       "      (bn3): BatchNorm2d(1024, eps=1e-05, momentum=0.1, affine=True, track_running_stats=True)\n",
       "      (relu): ReLU(inplace=True)\n",
       "      (downsample): Sequential(\n",
       "        (0): Conv2d(512, 1024, kernel_size=(1, 1), stride=(2, 2), bias=False)\n",
       "        (1): BatchNorm2d(1024, eps=1e-05, momentum=0.1, affine=True, track_running_stats=True)\n",
       "      )\n",
       "    )\n",
       "    (1): Bottleneck(\n",
       "      (conv1): Conv2d(1024, 256, kernel_size=(1, 1), stride=(1, 1), bias=False)\n",
       "      (bn1): BatchNorm2d(256, eps=1e-05, momentum=0.1, affine=True, track_running_stats=True)\n",
       "      (conv2): Conv2d(256, 256, kernel_size=(3, 3), stride=(1, 1), padding=(1, 1), bias=False)\n",
       "      (bn2): BatchNorm2d(256, eps=1e-05, momentum=0.1, affine=True, track_running_stats=True)\n",
       "      (conv3): Conv2d(256, 1024, kernel_size=(1, 1), stride=(1, 1), bias=False)\n",
       "      (bn3): BatchNorm2d(1024, eps=1e-05, momentum=0.1, affine=True, track_running_stats=True)\n",
       "      (relu): ReLU(inplace=True)\n",
       "    )\n",
       "    (2): Bottleneck(\n",
       "      (conv1): Conv2d(1024, 256, kernel_size=(1, 1), stride=(1, 1), bias=False)\n",
       "      (bn1): BatchNorm2d(256, eps=1e-05, momentum=0.1, affine=True, track_running_stats=True)\n",
       "      (conv2): Conv2d(256, 256, kernel_size=(3, 3), stride=(1, 1), padding=(1, 1), bias=False)\n",
       "      (bn2): BatchNorm2d(256, eps=1e-05, momentum=0.1, affine=True, track_running_stats=True)\n",
       "      (conv3): Conv2d(256, 1024, kernel_size=(1, 1), stride=(1, 1), bias=False)\n",
       "      (bn3): BatchNorm2d(1024, eps=1e-05, momentum=0.1, affine=True, track_running_stats=True)\n",
       "      (relu): ReLU(inplace=True)\n",
       "    )\n",
       "    (3): Bottleneck(\n",
       "      (conv1): Conv2d(1024, 256, kernel_size=(1, 1), stride=(1, 1), bias=False)\n",
       "      (bn1): BatchNorm2d(256, eps=1e-05, momentum=0.1, affine=True, track_running_stats=True)\n",
       "      (conv2): Conv2d(256, 256, kernel_size=(3, 3), stride=(1, 1), padding=(1, 1), bias=False)\n",
       "      (bn2): BatchNorm2d(256, eps=1e-05, momentum=0.1, affine=True, track_running_stats=True)\n",
       "      (conv3): Conv2d(256, 1024, kernel_size=(1, 1), stride=(1, 1), bias=False)\n",
       "      (bn3): BatchNorm2d(1024, eps=1e-05, momentum=0.1, affine=True, track_running_stats=True)\n",
       "      (relu): ReLU(inplace=True)\n",
       "    )\n",
       "    (4): Bottleneck(\n",
       "      (conv1): Conv2d(1024, 256, kernel_size=(1, 1), stride=(1, 1), bias=False)\n",
       "      (bn1): BatchNorm2d(256, eps=1e-05, momentum=0.1, affine=True, track_running_stats=True)\n",
       "      (conv2): Conv2d(256, 256, kernel_size=(3, 3), stride=(1, 1), padding=(1, 1), bias=False)\n",
       "      (bn2): BatchNorm2d(256, eps=1e-05, momentum=0.1, affine=True, track_running_stats=True)\n",
       "      (conv3): Conv2d(256, 1024, kernel_size=(1, 1), stride=(1, 1), bias=False)\n",
       "      (bn3): BatchNorm2d(1024, eps=1e-05, momentum=0.1, affine=True, track_running_stats=True)\n",
       "      (relu): ReLU(inplace=True)\n",
       "    )\n",
       "    (5): Bottleneck(\n",
       "      (conv1): Conv2d(1024, 256, kernel_size=(1, 1), stride=(1, 1), bias=False)\n",
       "      (bn1): BatchNorm2d(256, eps=1e-05, momentum=0.1, affine=True, track_running_stats=True)\n",
       "      (conv2): Conv2d(256, 256, kernel_size=(3, 3), stride=(1, 1), padding=(1, 1), bias=False)\n",
       "      (bn2): BatchNorm2d(256, eps=1e-05, momentum=0.1, affine=True, track_running_stats=True)\n",
       "      (conv3): Conv2d(256, 1024, kernel_size=(1, 1), stride=(1, 1), bias=False)\n",
       "      (bn3): BatchNorm2d(1024, eps=1e-05, momentum=0.1, affine=True, track_running_stats=True)\n",
       "      (relu): ReLU(inplace=True)\n",
       "    )\n",
       "  )\n",
       "  (layer4): Sequential(\n",
       "    (0): Bottleneck(\n",
       "      (conv1): Conv2d(1024, 512, kernel_size=(1, 1), stride=(1, 1), bias=False)\n",
       "      (bn1): BatchNorm2d(512, eps=1e-05, momentum=0.1, affine=True, track_running_stats=True)\n",
       "      (conv2): Conv2d(512, 512, kernel_size=(3, 3), stride=(2, 2), padding=(1, 1), bias=False)\n",
       "      (bn2): BatchNorm2d(512, eps=1e-05, momentum=0.1, affine=True, track_running_stats=True)\n",
       "      (conv3): Conv2d(512, 2048, kernel_size=(1, 1), stride=(1, 1), bias=False)\n",
       "      (bn3): BatchNorm2d(2048, eps=1e-05, momentum=0.1, affine=True, track_running_stats=True)\n",
       "      (relu): ReLU(inplace=True)\n",
       "      (downsample): Sequential(\n",
       "        (0): Conv2d(1024, 2048, kernel_size=(1, 1), stride=(2, 2), bias=False)\n",
       "        (1): BatchNorm2d(2048, eps=1e-05, momentum=0.1, affine=True, track_running_stats=True)\n",
       "      )\n",
       "    )\n",
       "    (1): Bottleneck(\n",
       "      (conv1): Conv2d(2048, 512, kernel_size=(1, 1), stride=(1, 1), bias=False)\n",
       "      (bn1): BatchNorm2d(512, eps=1e-05, momentum=0.1, affine=True, track_running_stats=True)\n",
       "      (conv2): Conv2d(512, 512, kernel_size=(3, 3), stride=(1, 1), padding=(1, 1), bias=False)\n",
       "      (bn2): BatchNorm2d(512, eps=1e-05, momentum=0.1, affine=True, track_running_stats=True)\n",
       "      (conv3): Conv2d(512, 2048, kernel_size=(1, 1), stride=(1, 1), bias=False)\n",
       "      (bn3): BatchNorm2d(2048, eps=1e-05, momentum=0.1, affine=True, track_running_stats=True)\n",
       "      (relu): ReLU(inplace=True)\n",
       "    )\n",
       "    (2): Bottleneck(\n",
       "      (conv1): Conv2d(2048, 512, kernel_size=(1, 1), stride=(1, 1), bias=False)\n",
       "      (bn1): BatchNorm2d(512, eps=1e-05, momentum=0.1, affine=True, track_running_stats=True)\n",
       "      (conv2): Conv2d(512, 512, kernel_size=(3, 3), stride=(1, 1), padding=(1, 1), bias=False)\n",
       "      (bn2): BatchNorm2d(512, eps=1e-05, momentum=0.1, affine=True, track_running_stats=True)\n",
       "      (conv3): Conv2d(512, 2048, kernel_size=(1, 1), stride=(1, 1), bias=False)\n",
       "      (bn3): BatchNorm2d(2048, eps=1e-05, momentum=0.1, affine=True, track_running_stats=True)\n",
       "      (relu): ReLU(inplace=True)\n",
       "    )\n",
       "  )\n",
       "  (avgpool): AdaptiveAvgPool2d(output_size=(1, 1))\n",
       "  (fc): Linear(in_features=2048, out_features=16, bias=True)\n",
       ")"
      ]
     },
     "execution_count": 99,
     "metadata": {},
     "output_type": "execute_result"
    }
   ],
   "source": [
    "model = models.resnet50(pretrained=True)\n",
    "\n",
    "criterion = nn.CrossEntropyLoss()\n",
    "optimizer = optim.SGD(model.parameters(), lr=0.001)\n",
    "\n",
    "def accuracy(out, labels):\n",
    "    _,pred = torch.max(out, dim=1)\n",
    "    return torch.sum(pred==labels).item()\n",
    "\n",
    "num_ftrs = model.fc.in_features\n",
    "model.fc = nn.Linear(num_ftrs, 16)\n",
    "model.to(device)"
   ]
  },
  {
   "cell_type": "code",
   "execution_count": 100,
   "id": "07bfe374",
   "metadata": {},
   "outputs": [
    {
     "name": "stdout",
     "output_type": "stream",
     "text": [
      "Epoch 1\n",
      "\n",
      "Epoch [1/1], Step [0/214], Loss: 2.6610\n",
      "Epoch [1/1], Step [20/214], Loss: 2.7407\n",
      "Epoch [1/1], Step [40/214], Loss: 2.8172\n",
      "Epoch [1/1], Step [60/214], Loss: 2.7674\n",
      "Epoch [1/1], Step [80/214], Loss: 2.6714\n",
      "Epoch [1/1], Step [100/214], Loss: 2.7650\n",
      "Epoch [1/1], Step [120/214], Loss: 2.6206\n",
      "Epoch [1/1], Step [140/214], Loss: 2.6269\n",
      "Epoch [1/1], Step [160/214], Loss: 2.6789\n",
      "Epoch [1/1], Step [180/214], Loss: 2.6279\n",
      "Epoch [1/1], Step [200/214], Loss: 2.5784\n",
      "\n",
      "train-loss: 2.6798, train-acc: 15.4274\n",
      "validation loss: 2.6385, validation acc: 17.9625\n",
      "\n",
      "Improvement-Detected, save-model\n"
     ]
    }
   ],
   "source": [
    "n_epochs = 1\n",
    "print_every = 10\n",
    "valid_loss_min = np.Inf\n",
    "val_loss = []\n",
    "val_acc = []\n",
    "train_loss = []\n",
    "train_acc = []\n",
    "total_step = len(train_data_loader)\n",
    "for epoch in range(1, n_epochs+1):\n",
    "    running_loss = 0.0\n",
    "    correct = 0\n",
    "    total=0\n",
    "    print(f'Epoch {epoch}\\n')\n",
    "    for batch_idx, (data_, target_) in enumerate(train_data_loader):\n",
    "        data_, target_ = data_.to(device), target_.to(device)\n",
    "        optimizer.zero_grad()\n",
    "        \n",
    "        outputs = model(data_)\n",
    "        loss = criterion(outputs, target_)\n",
    "        loss.backward()\n",
    "        optimizer.step()\n",
    "\n",
    "        running_loss += loss.item()\n",
    "        _,pred = torch.max(outputs, dim=1)\n",
    "        correct += torch.sum(pred==target_).item()\n",
    "        total += target_.size(0)\n",
    "        if (batch_idx) % 20 == 0:\n",
    "            print ('Epoch [{}/{}], Step [{}/{}], Loss: {:.4f}' \n",
    "                   .format(epoch, n_epochs, batch_idx, total_step, loss.item()))\n",
    "    train_acc.append(100 * correct / total)\n",
    "    train_loss.append(running_loss/total_step)\n",
    "    print(f'\\ntrain-loss: {np.mean(train_loss):.4f}, train-acc: {(100 * correct/total):.4f}')\n",
    "    batch_loss = 0\n",
    "    total_t=0\n",
    "    correct_t=0\n",
    "    with torch.no_grad():\n",
    "        model.eval()\n",
    "        for data_t, target_t in (test_data_loader):\n",
    "            data_t, target_t = data_t.to(device), target_t.to(device)\n",
    "            outputs_t = model(data_t)\n",
    "            loss_t = criterion(outputs_t, target_t)\n",
    "            batch_loss += loss_t.item()\n",
    "            _,pred_t = torch.max(outputs_t, dim=1)\n",
    "            correct_t += torch.sum(pred_t==target_t).item()\n",
    "            total_t += target_t.size(0)\n",
    "        val_acc.append(100 * correct_t/total_t)\n",
    "        val_loss.append(batch_loss/len(test_data_loader))\n",
    "        network_learned = batch_loss < valid_loss_min\n",
    "        print(f'validation loss: {np.mean(val_loss):.4f}, validation acc: {(100 * correct_t/total_t):.4f}\\n')\n",
    "\n",
    "        \n",
    "        if network_learned:\n",
    "            valid_loss_min = batch_loss\n",
    "            torch.save(model.state_dict(), 'resnet.pt')\n",
    "            print('Improvement-Detected, save-model')\n",
    "    model.train()\n",
    "\n"
   ]
  },
  {
   "cell_type": "code",
   "execution_count": 119,
   "id": "9e6cbc56",
   "metadata": {},
   "outputs": [],
   "source": [
    "# evaluate the model\n",
    "def evaluate_model(test_dl, model):\n",
    "    predictions, actuals = list(), list()\n",
    "    for i, (inputs, targets) in enumerate(test_dl):\n",
    "        # evaluate the model on the test set\n",
    "        yhat = model(inputs)\n",
    "        # retrieve numpy array\n",
    "        yhat = yhat.detach().numpy()\n",
    "        actual = targets.numpy()\n",
    "        # convert to class labels\n",
    "        yhat = np.argmax(yhat, axis=1)\n",
    "        # reshape for stacking\n",
    "        actual = actual.reshape((len(actual), 1))\n",
    "        yhat = yhat.reshape((len(yhat), 1))\n",
    "        # store\n",
    "        predictions.append(yhat)\n",
    "        actuals.append(actual)\n",
    "    predictions, actuals = np.vstack(predictions), np.vstack(actuals)\n",
    "    # calculate accuracy\n",
    "    acc = accuracy_score(actuals, predictions)\n",
    "    return acc"
   ]
  },
  {
   "cell_type": "code",
   "execution_count": 120,
   "id": "650e10f6",
   "metadata": {},
   "outputs": [
    {
     "name": "stdout",
     "output_type": "stream",
     "text": [
      "Accuracy: 0.408\n"
     ]
    }
   ],
   "source": [
    "# evaluate the model\n",
    "acc = evaluate_model(test_data_loader, network)\n",
    "print('Accuracy: %.3f' % acc)"
   ]
  },
  {
   "cell_type": "code",
   "execution_count": null,
   "id": "6aada4a0",
   "metadata": {},
   "outputs": [],
   "source": []
  }
 ],
 "metadata": {
  "kernelspec": {
   "display_name": "Python 3 (ipykernel)",
   "language": "python",
   "name": "python3"
  },
  "language_info": {
   "codemirror_mode": {
    "name": "ipython",
    "version": 3
   },
   "file_extension": ".py",
   "mimetype": "text/x-python",
   "name": "python",
   "nbconvert_exporter": "python",
   "pygments_lexer": "ipython3",
   "version": "3.9.6"
  }
 },
 "nbformat": 4,
 "nbformat_minor": 5
}
